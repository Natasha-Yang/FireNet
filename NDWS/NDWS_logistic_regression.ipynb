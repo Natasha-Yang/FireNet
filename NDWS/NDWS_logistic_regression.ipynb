{
  "cells": [
    {
      "cell_type": "markdown",
      "metadata": {
        "colab_type": "text",
        "id": "view-in-github"
      },
      "source": [
        "<a href=\"https://colab.research.google.com/github/dwgb93/TEI_WildfireSpread/blob/main/notebooks/Logistic_Regression_Modeling.ipynb\" target=\"_parent\"><img src=\"https://colab.research.google.com/assets/colab-badge.svg\" alt=\"Open In Colab\"/></a>"
      ]
    },
    {
      "cell_type": "markdown",
      "metadata": {
        "id": "5xck4tfO6s0t"
      },
      "source": [
        "# Next Day Wildfire Spread Dataset: Logistic Regression\n",
        "\n",
        "*   Parses and normalizes the data into training, validation, and test sets.\n",
        "*   Using all the data in the training set (other than where the output is knonwn), trains a basic Logistic Regression model\n",
        "*   Reports which features contributed most to the model\n",
        "*   Measures the Precision, Recall, and AUC (PR) on new data\n",
        "*   Plots the metrics and visualizes predictions"
      ]
    },
    {
      "cell_type": "markdown",
      "metadata": {
        "id": "oOtnY2y8Om-1"
      },
      "source": [
        "Import the required libraries."
      ]
    },
    {
      "cell_type": "code",
      "execution_count": 2,
      "metadata": {
        "id": "1Mf4kbp8yOxd"
      },
      "outputs": [
        {
          "name": "stderr",
          "output_type": "stream",
          "text": [
            "\u001b[32m2025-03-01 22:56:21.858\u001b[0m | \u001b[1mINFO    \u001b[0m | \u001b[36mfirenet.config\u001b[0m:\u001b[36m<module>\u001b[0m:\u001b[36m11\u001b[0m - \u001b[1mPROJ_ROOT path is: /Users/jess/uoft/Year3/ECE324 Machine Intelligence, Software and Neural Networks/FireNet\u001b[0m\n"
          ]
        }
      ],
      "source": [
        "import pandas as pd\n",
        "\n",
        "import sys\n",
        "import os\n",
        "import re\n",
        "from typing import Dict, List, Optional, Text, Tuple\n",
        "import matplotlib.pyplot as plt\n",
        "from matplotlib import colors\n",
        "\n",
        "# Add the project root directory (FireNet) to the Python path\n",
        "project_root = os.path.abspath(os.path.join(os.getcwd(), '..')) \n",
        "sys.path.append(project_root)\n",
        "\n",
        "import tensorflow as tf\n",
        "# from tfrecord.torch.dataset import TFRecordDataset\n",
        "from torch.utils.data import DataLoader\n",
        "import numpy as np\n",
        "from firenet.config import *"
      ]
    },
    {
      "cell_type": "code",
      "execution_count": 14,
      "metadata": {
        "colab": {
          "base_uri": "https://localhost:8080/"
        },
        "id": "83ySLB31i3n-",
        "outputId": "b5fc255a-aa26-4fb9-ec72-1397e2ae8f20"
      },
      "outputs": [],
      "source": [
        "# file path on local device\n",
        "file_path = NDWS_RAW_DATA_DIR"
      ]
    },
    {
      "cell_type": "markdown",
      "metadata": {
        "id": "OabUJMGqO9NE"
      },
      "source": [
        "## General functions to load data"
      ]
    },
    {
      "cell_type": "code",
      "execution_count": 4,
      "metadata": {
        "id": "GTTV3tjjCcdn"
      },
      "outputs": [],
      "source": [
        "# Constants for the data reader\n",
        "\n",
        "INPUT_FEATURES = ['elevation', 'th', 'vs',  'tmmn', 'tmmx', 'sph',\n",
        "                  'pr', 'pdsi', 'NDVI', 'population', 'erc', 'PrevFireMask']\n",
        "\n",
        "OUTPUT_FEATURES = ['FireMask']\n",
        "\n",
        "# Data statistics\n",
        "# For each variable, the statistics are ordered in the form:\n",
        "# (min_clip, max_clip, mean, std)\n",
        "# I recalculated the statistics based on the the uncropped training data\n",
        "DATA_STATS = {\n",
        "    # 0.1 percentile, 99.9 percentile\n",
        "    # Elevation\n",
        "    'elevation' : (0.0, 3536.0, 896.5714, 842.6101),\n",
        "    # Drought index - this claimed to be pressure, but it's Palmer Drought Severity Index\n",
        "    # https://en.wikipedia.org/wiki/Palmer_drought_index\n",
        "    # 0.1 percentile, 99.9 percentile\n",
        "    'pdsi' : (-6.0559, 6.7432, -0.7729, 2.4407),\n",
        "    # Normalized Difference Vegetation Index https://gisgeography.com/ndvi-normalized-difference-vegetation-index/\n",
        "    'NDVI' : (-3826.0, 9282.0, 5350.6865, 2185.2192),\n",
        "    # Precipitation in mm.\n",
        "    # Negative values make no sense, so min is set to 0.\n",
        "    # 0., 99.9 percentile\n",
        "    'pr': (0.0, 19.2422, 0.3234289, 1.5336641),\n",
        "    # Specific humidity ranges from 0 to 100%.\n",
        "    'sph': (0., 1., 0.0065263123, 0.003735537), #max changed to 1\n",
        "    # Wind direction - degrees clockwise from north.\n",
        "    # Thus min set to 0 and max set to 360.\n",
        "    'th' : (0.0, 360.0, 146.6468, 3435.0725),\n",
        "    # Min/max temperature in Kelvin.\n",
        "    # -20 degree C, 99.9 percentile\n",
        "    'tmmn' : (253.15, 299.6313, 281.85196, 18.4972), #min changed\n",
        "    # -20 degree C, 99.9 percentile\n",
        "    'tmmx' : (253.15, 317.3869, 297.71643, 19.4581), #min changed\n",
        "    # Wind speed.\n",
        "    # Negative values do not make sense, given there is a wind direction.\n",
        "    # 0., 99.9 percentile\n",
        "    'vs' : (0.0, 9.7368, 3.6278, 1.3092),\n",
        "    # NFDRS fire danger index energy release component expressed in BTU's per\n",
        "    # square foot.\n",
        "    # Negative values do not make sense. Thus min set to zero.\n",
        "    # 0., 99.9 percentile\n",
        "    'erc' : (0.0, 109.9254, 53.4690, 25.0980),\n",
        "    # Population\n",
        "    # min, 99.9 percentile\n",
        "    'population' : (0.0, 2935.7548828125, 30.4603, 214.20015),\n",
        "    # We don't want to normalize the FireMasks.\n",
        "    'PrevFireMask': (-1., 1., 0., 1.),\n",
        "    'FireMask': (-1., 1., 0., 1.)\n",
        "}"
      ]
    },
    {
      "cell_type": "code",
      "execution_count": 5,
      "metadata": {
        "id": "QqGYv21hD-2q"
      },
      "outputs": [],
      "source": [
        "\"\"\"Library of common functions used in deep learning neural networks.\n",
        "\"\"\"\n",
        "def random_crop_input_and_output_images(\n",
        "    input_img: tf.Tensor,\n",
        "    output_img: tf.Tensor,\n",
        "    sample_size: int,\n",
        "    num_in_channels: int,\n",
        "    num_out_channels: int,\n",
        ") -> Tuple[tf.Tensor, tf.Tensor]:\n",
        "  \"\"\"Randomly axis-align crop input and output image tensors.\n",
        "\n",
        "  Args:\n",
        "    input_img: Tensor with dimensions HWC.\n",
        "    output_img: Tensor with dimensions HWC.\n",
        "    sample_size: Side length (square) to crop to.\n",
        "    num_in_channels: Number of channels in `input_img`.\n",
        "    num_out_channels: Number of channels in `output_img`.\n",
        "  Returns:\n",
        "    input_img: Tensor with dimensions HWC.\n",
        "    output_img: Tensor with dimensions HWC.\n",
        "  \"\"\"\n",
        "  combined = tf.concat([input_img, output_img], axis=2)\n",
        "  combined = tf.image.random_crop(\n",
        "      combined,\n",
        "      [sample_size, sample_size, num_in_channels + num_out_channels])\n",
        "  input_img = combined[:, :, 0:num_in_channels]\n",
        "  output_img = combined[:, :, -num_out_channels:]\n",
        "  return input_img, output_img\n",
        "\n",
        "\n",
        "def center_crop_input_and_output_images(\n",
        "    input_img: tf.Tensor,\n",
        "    output_img: tf.Tensor,\n",
        "    sample_size: int,\n",
        ") -> Tuple[tf.Tensor, tf.Tensor]:\n",
        "  \"\"\"Calls `tf.image.central_crop` on input and output image tensors.\n",
        "\n",
        "  Args:\n",
        "    input_img: Tensor with dimensions HWC.\n",
        "    output_img: Tensor with dimensions HWC.\n",
        "    sample_size: Side length (square) to crop to.\n",
        "  Returns:\n",
        "    input_img: Tensor with dimensions HWC.\n",
        "    output_img: Tensor with dimensions HWC.\n",
        "  \"\"\"\n",
        "  central_fraction = sample_size / input_img.shape[0]\n",
        "  input_img = tf.image.central_crop(input_img, central_fraction)\n",
        "  output_img = tf.image.central_crop(output_img, central_fraction)\n",
        "  return input_img, output_img"
      ]
    },
    {
      "cell_type": "code",
      "execution_count": 6,
      "metadata": {
        "id": "VBvI9FuGEC09"
      },
      "outputs": [],
      "source": [
        "\"\"\"Dataset reader for Earth Engine data.\"\"\"\n",
        "\n",
        "def _get_base_key(key: Text) -> Text:\n",
        "  \"\"\"Extracts the base key from the provided key.\n",
        "\n",
        "  Earth Engine exports TFRecords containing each data variable with its\n",
        "  corresponding variable name. In the case of time sequences, the name of the\n",
        "  data variable is of the form 'variable_1', 'variable_2', ..., 'variable_n',\n",
        "  where 'variable' is the name of the variable, and n the number of elements\n",
        "  in the time sequence. Extracting the base key ensures that each step of the\n",
        "  time sequence goes through the same normalization steps.\n",
        "  The base key obeys the following naming pattern: '([a-zA-Z]+)'\n",
        "  For instance, for an input key 'variable_1', this function returns 'variable'.\n",
        "  For an input key 'variable', this function simply returns 'variable'.\n",
        "\n",
        "  Args:\n",
        "    key: Input key.\n",
        "\n",
        "  Returns:\n",
        "    The corresponding base key.\n",
        "\n",
        "  Raises:\n",
        "    ValueError when `key` does not match the expected pattern.\n",
        "  \"\"\"\n",
        "  match = re.match(r'([a-zA-Z]+)', key)\n",
        "  if match:\n",
        "    return match.group(1)\n",
        "  raise ValueError(\n",
        "      'The provided key does not match the expected pattern: {}'.format(key))\n",
        "\n",
        "\n",
        "def _clip_and_rescale(inputs: tf.Tensor, key: Text) -> tf.Tensor:\n",
        "  \"\"\"Clips and rescales inputs with the stats corresponding to `key`.\n",
        "\n",
        "  Args:\n",
        "    inputs: Inputs to clip and rescale.\n",
        "    key: Key describing the inputs.\n",
        "\n",
        "  Returns:\n",
        "    Clipped and rescaled input.\n",
        "\n",
        "  Raises:\n",
        "    ValueError if there are no data statistics available for `key`.\n",
        "  \"\"\"\n",
        "  base_key = _get_base_key(key)\n",
        "  if base_key not in DATA_STATS:\n",
        "    raise ValueError(\n",
        "        'No data statistics available for the requested key: {}.'.format(key))\n",
        "  min_val, max_val, _, _ = DATA_STATS[base_key]\n",
        "  inputs = tf.clip_by_value(inputs, min_val, max_val)\n",
        "  return tf.math.divide_no_nan((inputs - min_val), (max_val - min_val))\n",
        "\n",
        "\n",
        "def _clip_and_normalize(inputs: tf.Tensor, key: Text) -> tf.Tensor:\n",
        "  \"\"\"Clips and normalizes inputs with the stats corresponding to `key`.\n",
        "\n",
        "  Args:\n",
        "    inputs: Inputs to clip and normalize.\n",
        "    key: Key describing the inputs.\n",
        "\n",
        "  Returns:\n",
        "    Clipped and normalized input.\n",
        "\n",
        "  Raises:\n",
        "    ValueError if there are no data statistics available for `key`.\n",
        "  \"\"\"\n",
        "  base_key = _get_base_key(key)\n",
        "  if base_key not in DATA_STATS:\n",
        "    raise ValueError(\n",
        "        'No data statistics available for the requested key: {}.'.format(key))\n",
        "  min_val, max_val, mean, std = DATA_STATS[base_key]\n",
        "  inputs = tf.clip_by_value(inputs, min_val, max_val)\n",
        "  inputs = inputs - mean\n",
        "  return tf.math.divide_no_nan(inputs, std)\n",
        "\n",
        "def _get_features_dict(\n",
        "    sample_size: int,\n",
        "    features: List[Text],\n",
        ") -> Dict[Text, tf.io.FixedLenFeature]:\n",
        "  \"\"\"Creates a features dictionary for TensorFlow IO.\n",
        "\n",
        "  Args:\n",
        "    sample_size: Size of the input tiles (square).\n",
        "    features: List of feature names.\n",
        "\n",
        "  Returns:\n",
        "    A features dictionary for TensorFlow IO.\n",
        "  \"\"\"\n",
        "  sample_shape = [sample_size, sample_size]\n",
        "  features = set(features)\n",
        "  columns = [\n",
        "      tf.io.FixedLenFeature(shape=sample_shape, dtype=tf.float32)\n",
        "      for _ in features\n",
        "  ]\n",
        "  return dict(zip(features, columns))\n",
        "\n",
        "\n",
        "def _parse_fn(\n",
        "    example_proto: tf.train.Example, data_size: int, sample_size: int,\n",
        "    num_in_channels: int, clip_and_normalize: bool,\n",
        "    clip_and_rescale: bool, random_crop: bool, center_crop: bool,\n",
        ") -> Tuple[tf.Tensor, tf.Tensor]:\n",
        "  \"\"\"Reads a serialized example.\n",
        "\n",
        "  Args:\n",
        "    example_proto: A TensorFlow example protobuf.\n",
        "    data_size: Size of tiles (square) as read from input files.\n",
        "    sample_size: Size the tiles (square) when input into the model.\n",
        "    num_in_channels: Number of input channels.\n",
        "    clip_and_normalize: True if the data should be clipped and normalized.\n",
        "    clip_and_rescale: True if the data should be clipped and rescaled.\n",
        "    random_crop: True if the data should be randomly cropped.\n",
        "    center_crop: True if the data should be cropped in the center.\n",
        "\n",
        "  Returns:\n",
        "    (input_img, output_img) tuple of inputs and outputs to the ML model.\n",
        "  \"\"\"\n",
        "  if (random_crop and center_crop):\n",
        "    raise ValueError('Cannot have both random_crop and center_crop be True')\n",
        "  input_features, output_features = INPUT_FEATURES, OUTPUT_FEATURES\n",
        "  feature_names = input_features + output_features\n",
        "  features_dict = _get_features_dict(data_size, feature_names)\n",
        "  features = tf.io.parse_single_example(example_proto, features_dict)\n",
        "\n",
        "  if clip_and_normalize:\n",
        "    inputs_list = [\n",
        "        _clip_and_normalize(features.get(key), key) for key in input_features\n",
        "    ]\n",
        "  elif clip_and_rescale:\n",
        "    inputs_list = [\n",
        "        _clip_and_rescale(features.get(key), key) for key in input_features\n",
        "    ]\n",
        "  else:\n",
        "    inputs_list = [features.get(key) for key in input_features]\n",
        "  \n",
        "  inputs_stacked = tf.stack(inputs_list, axis=0)\n",
        "  input_img = tf.transpose(inputs_stacked, [1, 2, 0])\n",
        "\n",
        "  outputs_list = [features.get(key) for key in output_features]\n",
        "  assert outputs_list, 'outputs_list should not be empty'\n",
        "  outputs_stacked = tf.stack(outputs_list, axis=0)\n",
        "\n",
        "  outputs_stacked_shape = outputs_stacked.get_shape().as_list()\n",
        "  assert len(outputs_stacked.shape) == 3, ('outputs_stacked should be rank 3'\n",
        "                                            'but dimensions of outputs_stacked'\n",
        "                                            f' are {outputs_stacked_shape}')\n",
        "  output_img = tf.transpose(outputs_stacked, [1, 2, 0])\n",
        "\n",
        "  if random_crop:\n",
        "    input_img, output_img = random_crop_input_and_output_images(\n",
        "        input_img, output_img, sample_size, num_in_channels, 1)\n",
        "  if center_crop:\n",
        "    input_img, output_img = center_crop_input_and_output_images(\n",
        "        input_img, output_img, sample_size)\n",
        "  return input_img, output_img\n",
        "\n",
        "\n",
        "def get_dataset(file_pattern: Text, data_size: int, sample_size: int,\n",
        "                batch_size: int, num_in_channels: int, compression_type: Text,\n",
        "                clip_and_normalize: bool, clip_and_rescale: bool,\n",
        "                random_crop: bool, center_crop: bool) -> tf.data.Dataset:\n",
        "  \"\"\"Gets the dataset from the file pattern.\n",
        "\n",
        "  Args:\n",
        "    file_pattern: Input file pattern.\n",
        "    data_size: Size of tiles (square) as read from input files.\n",
        "    sample_size: Size the tiles (square) when input into the model.\n",
        "    batch_size: Batch size.\n",
        "    num_in_channels: Number of input channels.\n",
        "    compression_type: Type of compression used for the input files.\n",
        "    clip_and_normalize: True if the data should be clipped and normalized, False\n",
        "      otherwise.\n",
        "    clip_and_rescale: True if the data should be clipped and rescaled, False\n",
        "      otherwise.\n",
        "    random_crop: True if the data should be randomly cropped.\n",
        "    center_crop: True if the data shoulde be cropped in the center.\n",
        "\n",
        "  Returns:\n",
        "    A TensorFlow dataset loaded from the input file pattern, with features\n",
        "    described in the constants, and with the shapes determined from the input\n",
        "    parameters to this function.\n",
        "  \"\"\"\n",
        "  if (clip_and_normalize and clip_and_rescale):\n",
        "    raise ValueError('Cannot have both normalize and rescale.')\n",
        "  dataset = tf.data.Dataset.list_files(file_pattern)\n",
        "  dataset = dataset.interleave(\n",
        "      lambda x: tf.data.TFRecordDataset(x, compression_type=compression_type),\n",
        "      num_parallel_calls=tf.data.experimental.AUTOTUNE)\n",
        "  dataset = dataset.prefetch(buffer_size=tf.data.experimental.AUTOTUNE)\n",
        "  dataset = dataset.map(\n",
        "      lambda x: _parse_fn(  # pylint: disable=g-long-lambda\n",
        "          x, data_size, sample_size, num_in_channels, clip_and_normalize,\n",
        "          clip_and_rescale, random_crop, center_crop),\n",
        "      num_parallel_calls=tf.data.experimental.AUTOTUNE)\n",
        "  dataset = dataset.batch(batch_size)\n",
        "  dataset = dataset.prefetch(buffer_size=tf.data.experimental.AUTOTUNE)\n",
        "  return dataset"
      ]
    },
    {
      "cell_type": "markdown",
      "metadata": {
        "id": "JNPogL4_Ftcx"
      },
      "source": [
        "Depending on the cutoff, we could report ~100% precision or 100% accuracy, trading one off for the other. \n",
        "\n",
        "This function returns the precision and recall that maximize the F1-score, for consistency.\n",
        "\n",
        "For certain cutoffs, the precision is undefined, so it is recorded as 0."
      ]
    },
    {
      "cell_type": "code",
      "execution_count": 7,
      "metadata": {
        "id": "7WhPKRhucCeJ"
      },
      "outputs": [],
      "source": [
        "def get_metrics(precs, recs):\n",
        "  f1s = np.nan_to_num(2*np.nan_to_num(precs)*recs/(np.nan_to_num(precs) + recs))\n",
        "  return precs[np.argmax(f1s)], recs[np.argmax(f1s)]"
      ]
    },
    {
      "cell_type": "markdown",
      "metadata": {
        "id": "xMiScPQtFuqu"
      },
      "source": [
        "Define the features in the dataset"
      ]
    },
    {
      "cell_type": "code",
      "execution_count": 8,
      "metadata": {
        "id": "bnG0_l_ChjUt"
      },
      "outputs": [],
      "source": [
        "TITLES = [\n",
        "  'Elevation',\n",
        "  'Wind\\ndirection',\n",
        "  'Wind\\nvelocity',\n",
        "  'Min\\ntemp',\n",
        "  'Max\\ntemp',\n",
        "  'Humidity',\n",
        "  'Precip',\n",
        "  'Drought',\n",
        "  'Vegetation',\n",
        "  'Population\\ndensity',\n",
        "  'Energy\\nrelease\\ncomponent',\n",
        "  'Previous\\nfire\\nmask',\n",
        "  'Fire\\nmask'\n",
        "]"
      ]
    },
    {
      "cell_type": "markdown",
      "metadata": {
        "id": "rdNDytnsPTVK"
      },
      "source": [
        "# 3. Load the dataset\n",
        "Stored locally, as defined by firenet.config file"
      ]
    },
    {
      "cell_type": "code",
      "execution_count": 15,
      "metadata": {
        "id": "fhHMUbBoOg0k"
      },
      "outputs": [],
      "source": [
        "file_pattern = os.path.join(file_path, 'train', '*.tfrecord')\n",
        "val_file_pattern = os.path.join(file_path, 'eval', '*.tfrecord')\n",
        "test_file_pattern = os.path.join(file_path, 'test', '*.tfrecord')"
      ]
    },
    {
      "cell_type": "markdown",
      "metadata": {
        "id": "rv4aubzIIBcY"
      },
      "source": [
        "Get the training, validation, and testing datasets\n",
        "\n",
        "\n",
        "We randomly crop the training data, which provides some small amount of randomness to the model each time it's run. Set center_crop = True to force it to be deterministic.\n",
        "\n",
        "We center crop the images for validation and testing."
      ]
    },
    {
      "cell_type": "code",
      "execution_count": 16,
      "metadata": {
        "id": "X1jBBEinQbM0"
      },
      "outputs": [],
      "source": [
        "dataset = get_dataset(\n",
        "      file_pattern,\n",
        "      data_size=64,\n",
        "      sample_size=32,\n",
        "      batch_size=14979,\n",
        "      num_in_channels=12,\n",
        "      compression_type=None,\n",
        "      clip_and_normalize=True,\n",
        "      clip_and_rescale=False,\n",
        "      random_crop=True,\n",
        "      center_crop=False)\n",
        "\n",
        "valset = get_dataset(\n",
        "      val_file_pattern,\n",
        "      data_size=64,\n",
        "      sample_size=32,\n",
        "      batch_size=1877,\n",
        "      num_in_channels=12,\n",
        "      compression_type=None,\n",
        "      clip_and_normalize=True,\n",
        "      clip_and_rescale=False,\n",
        "      random_crop=False,\n",
        "      center_crop=True)\n",
        "\n",
        "testset = get_dataset(\n",
        "      test_file_pattern,\n",
        "      data_size=64,\n",
        "      sample_size=32,\n",
        "      batch_size=1877,\n",
        "      num_in_channels=12,\n",
        "      compression_type=None,\n",
        "      clip_and_normalize=True,\n",
        "      clip_and_rescale=False,\n",
        "      random_crop=False,\n",
        "      center_crop=True)"
      ]
    },
    {
      "cell_type": "markdown",
      "metadata": {
        "id": "Ca8USco0PdG3"
      },
      "source": [
        "TF Datasets are loaded lazily, so materialize the first batch of inputs (11 environmental features) and labels (fire mask).\n"
      ]
    },
    {
      "cell_type": "code",
      "execution_count": 17,
      "metadata": {
        "id": "Ml7Rg8aCQiTT"
      },
      "outputs": [
        {
          "name": "stderr",
          "output_type": "stream",
          "text": [
            "2025-03-01 23:27:04.914664: I tensorflow/core/kernels/data/tf_record_dataset_op.cc:370] TFRecordDataset `buffer_size` is unspecified, default to 262144\n"
          ]
        }
      ],
      "source": [
        "inputs, labels = next(iter(dataset))\n",
        "\n",
        "inputs_val, labels_val = next(iter(valset))\n",
        "\n",
        "inputs_test, labels_test = next(iter(testset))"
      ]
    },
    {
      "cell_type": "markdown",
      "metadata": {
        "id": "GrcBHzy1Qd-O"
      },
      "source": [
        "Find how much fire is in each file. They should add to be 18,545 which is the total number of fires.\n"
      ]
    },
    {
      "cell_type": "code",
      "execution_count": 18,
      "metadata": {
        "colab": {
          "base_uri": "https://localhost:8080/"
        },
        "id": "KbYRYytBjsSE",
        "outputId": "cc1b29ac-12af-40f2-e12b-ebdf279c964d"
      },
      "outputs": [
        {
          "data": {
            "text/plain": [
              "TensorShape([14979, 32, 32, 12])"
            ]
          },
          "execution_count": 18,
          "metadata": {},
          "output_type": "execute_result"
        }
      ],
      "source": [
        "inputs.shape"
      ]
    },
    {
      "cell_type": "code",
      "execution_count": 19,
      "metadata": {
        "colab": {
          "base_uri": "https://localhost:8080/"
        },
        "id": "1PO3SOTOjkYl",
        "outputId": "e0cbc642-4fac-4033-c7de-962df2554552"
      },
      "outputs": [
        {
          "data": {
            "text/plain": [
              "TensorShape([1877, 32, 32, 12])"
            ]
          },
          "execution_count": 19,
          "metadata": {},
          "output_type": "execute_result"
        }
      ],
      "source": [
        "inputs_val.shape"
      ]
    },
    {
      "cell_type": "code",
      "execution_count": 20,
      "metadata": {
        "colab": {
          "base_uri": "https://localhost:8080/"
        },
        "id": "1XJ-orKr5LXp",
        "outputId": "7b813120-bde1-4791-8b8e-266a44adf45e"
      },
      "outputs": [
        {
          "data": {
            "text/plain": [
              "TensorShape([1689, 32, 32, 12])"
            ]
          },
          "execution_count": 20,
          "metadata": {},
          "output_type": "execute_result"
        }
      ],
      "source": [
        "inputs_test.shape"
      ]
    },
    {
      "cell_type": "markdown",
      "metadata": {
        "id": "J1qgH3TWKPBO"
      },
      "source": [
        "# 4. Logistic Regression"
      ]
    },
    {
      "cell_type": "code",
      "execution_count": null,
      "metadata": {
        "id": "DKU_gxWMK2g0"
      },
      "outputs": [],
      "source": [
        "## import LogisticRegression\n",
        "from sklearn.linear_model import LogisticRegression\n",
        "from sklearn.metrics import confusion_matrix"
      ]
    },
    {
      "cell_type": "markdown",
      "metadata": {
        "id": "a1FeFdu_IgYf"
      },
      "source": [
        "Reshape the data in the next two cells to remove \"no data\" files\n"
      ]
    },
    {
      "cell_type": "code",
      "execution_count": 23,
      "metadata": {
        "id": "ThMlFDi9KRR5"
      },
      "outputs": [],
      "source": [
        "X_train = tf.reshape(inputs, [-1,12]).numpy() #len(inputs)*32*32,12\n",
        "y_train = tf.reshape(labels, [-1]).numpy() #len(labels)*32*32\n",
        "\n",
        "X_val = tf.reshape(inputs_val, [-1,12]).numpy() \n",
        "y_val = tf.reshape(labels_val, [-1]).numpy() \n",
        "\n",
        "X_test = tf.reshape(inputs_test, [-1,12]).numpy() \n",
        "y_test = tf.reshape(labels_test, [-1]).numpy() "
      ]
    },
    {
      "cell_type": "code",
      "execution_count": null,
      "metadata": {
        "id": "5S713EV15fxo"
      },
      "outputs": [],
      "source": [
        "#Don't bother learning where no-data is during training.\n",
        "#makes training quicker and binary\n",
        "X = X_train[np.where(y_train >= 0)]\n",
        "y = y_train[np.where(y_train >= 0)]"
      ]
    },
    {
      "cell_type": "markdown",
      "metadata": {
        "id": "_AttrxshImJF"
      },
      "source": [
        "Set up Logistic Regression model"
      ]
    },
    {
      "cell_type": "code",
      "execution_count": 27,
      "metadata": {
        "colab": {
          "base_uri": "https://localhost:8080/"
        },
        "id": "LN24jNfsK2i_",
        "outputId": "f0f005c5-e2f3-4e82-c769-45bf8b8f4ea8"
      },
      "outputs": [
        {
          "data": {
            "text/html": [
              "<style>#sk-container-id-1 {\n",
              "  /* Definition of color scheme common for light and dark mode */\n",
              "  --sklearn-color-text: #000;\n",
              "  --sklearn-color-text-muted: #666;\n",
              "  --sklearn-color-line: gray;\n",
              "  /* Definition of color scheme for unfitted estimators */\n",
              "  --sklearn-color-unfitted-level-0: #fff5e6;\n",
              "  --sklearn-color-unfitted-level-1: #f6e4d2;\n",
              "  --sklearn-color-unfitted-level-2: #ffe0b3;\n",
              "  --sklearn-color-unfitted-level-3: chocolate;\n",
              "  /* Definition of color scheme for fitted estimators */\n",
              "  --sklearn-color-fitted-level-0: #f0f8ff;\n",
              "  --sklearn-color-fitted-level-1: #d4ebff;\n",
              "  --sklearn-color-fitted-level-2: #b3dbfd;\n",
              "  --sklearn-color-fitted-level-3: cornflowerblue;\n",
              "\n",
              "  /* Specific color for light theme */\n",
              "  --sklearn-color-text-on-default-background: var(--sg-text-color, var(--theme-code-foreground, var(--jp-content-font-color1, black)));\n",
              "  --sklearn-color-background: var(--sg-background-color, var(--theme-background, var(--jp-layout-color0, white)));\n",
              "  --sklearn-color-border-box: var(--sg-text-color, var(--theme-code-foreground, var(--jp-content-font-color1, black)));\n",
              "  --sklearn-color-icon: #696969;\n",
              "\n",
              "  @media (prefers-color-scheme: dark) {\n",
              "    /* Redefinition of color scheme for dark theme */\n",
              "    --sklearn-color-text-on-default-background: var(--sg-text-color, var(--theme-code-foreground, var(--jp-content-font-color1, white)));\n",
              "    --sklearn-color-background: var(--sg-background-color, var(--theme-background, var(--jp-layout-color0, #111)));\n",
              "    --sklearn-color-border-box: var(--sg-text-color, var(--theme-code-foreground, var(--jp-content-font-color1, white)));\n",
              "    --sklearn-color-icon: #878787;\n",
              "  }\n",
              "}\n",
              "\n",
              "#sk-container-id-1 {\n",
              "  color: var(--sklearn-color-text);\n",
              "}\n",
              "\n",
              "#sk-container-id-1 pre {\n",
              "  padding: 0;\n",
              "}\n",
              "\n",
              "#sk-container-id-1 input.sk-hidden--visually {\n",
              "  border: 0;\n",
              "  clip: rect(1px 1px 1px 1px);\n",
              "  clip: rect(1px, 1px, 1px, 1px);\n",
              "  height: 1px;\n",
              "  margin: -1px;\n",
              "  overflow: hidden;\n",
              "  padding: 0;\n",
              "  position: absolute;\n",
              "  width: 1px;\n",
              "}\n",
              "\n",
              "#sk-container-id-1 div.sk-dashed-wrapped {\n",
              "  border: 1px dashed var(--sklearn-color-line);\n",
              "  margin: 0 0.4em 0.5em 0.4em;\n",
              "  box-sizing: border-box;\n",
              "  padding-bottom: 0.4em;\n",
              "  background-color: var(--sklearn-color-background);\n",
              "}\n",
              "\n",
              "#sk-container-id-1 div.sk-container {\n",
              "  /* jupyter's `normalize.less` sets `[hidden] { display: none; }`\n",
              "     but bootstrap.min.css set `[hidden] { display: none !important; }`\n",
              "     so we also need the `!important` here to be able to override the\n",
              "     default hidden behavior on the sphinx rendered scikit-learn.org.\n",
              "     See: https://github.com/scikit-learn/scikit-learn/issues/21755 */\n",
              "  display: inline-block !important;\n",
              "  position: relative;\n",
              "}\n",
              "\n",
              "#sk-container-id-1 div.sk-text-repr-fallback {\n",
              "  display: none;\n",
              "}\n",
              "\n",
              "div.sk-parallel-item,\n",
              "div.sk-serial,\n",
              "div.sk-item {\n",
              "  /* draw centered vertical line to link estimators */\n",
              "  background-image: linear-gradient(var(--sklearn-color-text-on-default-background), var(--sklearn-color-text-on-default-background));\n",
              "  background-size: 2px 100%;\n",
              "  background-repeat: no-repeat;\n",
              "  background-position: center center;\n",
              "}\n",
              "\n",
              "/* Parallel-specific style estimator block */\n",
              "\n",
              "#sk-container-id-1 div.sk-parallel-item::after {\n",
              "  content: \"\";\n",
              "  width: 100%;\n",
              "  border-bottom: 2px solid var(--sklearn-color-text-on-default-background);\n",
              "  flex-grow: 1;\n",
              "}\n",
              "\n",
              "#sk-container-id-1 div.sk-parallel {\n",
              "  display: flex;\n",
              "  align-items: stretch;\n",
              "  justify-content: center;\n",
              "  background-color: var(--sklearn-color-background);\n",
              "  position: relative;\n",
              "}\n",
              "\n",
              "#sk-container-id-1 div.sk-parallel-item {\n",
              "  display: flex;\n",
              "  flex-direction: column;\n",
              "}\n",
              "\n",
              "#sk-container-id-1 div.sk-parallel-item:first-child::after {\n",
              "  align-self: flex-end;\n",
              "  width: 50%;\n",
              "}\n",
              "\n",
              "#sk-container-id-1 div.sk-parallel-item:last-child::after {\n",
              "  align-self: flex-start;\n",
              "  width: 50%;\n",
              "}\n",
              "\n",
              "#sk-container-id-1 div.sk-parallel-item:only-child::after {\n",
              "  width: 0;\n",
              "}\n",
              "\n",
              "/* Serial-specific style estimator block */\n",
              "\n",
              "#sk-container-id-1 div.sk-serial {\n",
              "  display: flex;\n",
              "  flex-direction: column;\n",
              "  align-items: center;\n",
              "  background-color: var(--sklearn-color-background);\n",
              "  padding-right: 1em;\n",
              "  padding-left: 1em;\n",
              "}\n",
              "\n",
              "\n",
              "/* Toggleable style: style used for estimator/Pipeline/ColumnTransformer box that is\n",
              "clickable and can be expanded/collapsed.\n",
              "- Pipeline and ColumnTransformer use this feature and define the default style\n",
              "- Estimators will overwrite some part of the style using the `sk-estimator` class\n",
              "*/\n",
              "\n",
              "/* Pipeline and ColumnTransformer style (default) */\n",
              "\n",
              "#sk-container-id-1 div.sk-toggleable {\n",
              "  /* Default theme specific background. It is overwritten whether we have a\n",
              "  specific estimator or a Pipeline/ColumnTransformer */\n",
              "  background-color: var(--sklearn-color-background);\n",
              "}\n",
              "\n",
              "/* Toggleable label */\n",
              "#sk-container-id-1 label.sk-toggleable__label {\n",
              "  cursor: pointer;\n",
              "  display: flex;\n",
              "  width: 100%;\n",
              "  margin-bottom: 0;\n",
              "  padding: 0.5em;\n",
              "  box-sizing: border-box;\n",
              "  text-align: center;\n",
              "  align-items: start;\n",
              "  justify-content: space-between;\n",
              "  gap: 0.5em;\n",
              "}\n",
              "\n",
              "#sk-container-id-1 label.sk-toggleable__label .caption {\n",
              "  font-size: 0.6rem;\n",
              "  font-weight: lighter;\n",
              "  color: var(--sklearn-color-text-muted);\n",
              "}\n",
              "\n",
              "#sk-container-id-1 label.sk-toggleable__label-arrow:before {\n",
              "  /* Arrow on the left of the label */\n",
              "  content: \"▸\";\n",
              "  float: left;\n",
              "  margin-right: 0.25em;\n",
              "  color: var(--sklearn-color-icon);\n",
              "}\n",
              "\n",
              "#sk-container-id-1 label.sk-toggleable__label-arrow:hover:before {\n",
              "  color: var(--sklearn-color-text);\n",
              "}\n",
              "\n",
              "/* Toggleable content - dropdown */\n",
              "\n",
              "#sk-container-id-1 div.sk-toggleable__content {\n",
              "  max-height: 0;\n",
              "  max-width: 0;\n",
              "  overflow: hidden;\n",
              "  text-align: left;\n",
              "  /* unfitted */\n",
              "  background-color: var(--sklearn-color-unfitted-level-0);\n",
              "}\n",
              "\n",
              "#sk-container-id-1 div.sk-toggleable__content.fitted {\n",
              "  /* fitted */\n",
              "  background-color: var(--sklearn-color-fitted-level-0);\n",
              "}\n",
              "\n",
              "#sk-container-id-1 div.sk-toggleable__content pre {\n",
              "  margin: 0.2em;\n",
              "  border-radius: 0.25em;\n",
              "  color: var(--sklearn-color-text);\n",
              "  /* unfitted */\n",
              "  background-color: var(--sklearn-color-unfitted-level-0);\n",
              "}\n",
              "\n",
              "#sk-container-id-1 div.sk-toggleable__content.fitted pre {\n",
              "  /* unfitted */\n",
              "  background-color: var(--sklearn-color-fitted-level-0);\n",
              "}\n",
              "\n",
              "#sk-container-id-1 input.sk-toggleable__control:checked~div.sk-toggleable__content {\n",
              "  /* Expand drop-down */\n",
              "  max-height: 200px;\n",
              "  max-width: 100%;\n",
              "  overflow: auto;\n",
              "}\n",
              "\n",
              "#sk-container-id-1 input.sk-toggleable__control:checked~label.sk-toggleable__label-arrow:before {\n",
              "  content: \"▾\";\n",
              "}\n",
              "\n",
              "/* Pipeline/ColumnTransformer-specific style */\n",
              "\n",
              "#sk-container-id-1 div.sk-label input.sk-toggleable__control:checked~label.sk-toggleable__label {\n",
              "  color: var(--sklearn-color-text);\n",
              "  background-color: var(--sklearn-color-unfitted-level-2);\n",
              "}\n",
              "\n",
              "#sk-container-id-1 div.sk-label.fitted input.sk-toggleable__control:checked~label.sk-toggleable__label {\n",
              "  background-color: var(--sklearn-color-fitted-level-2);\n",
              "}\n",
              "\n",
              "/* Estimator-specific style */\n",
              "\n",
              "/* Colorize estimator box */\n",
              "#sk-container-id-1 div.sk-estimator input.sk-toggleable__control:checked~label.sk-toggleable__label {\n",
              "  /* unfitted */\n",
              "  background-color: var(--sklearn-color-unfitted-level-2);\n",
              "}\n",
              "\n",
              "#sk-container-id-1 div.sk-estimator.fitted input.sk-toggleable__control:checked~label.sk-toggleable__label {\n",
              "  /* fitted */\n",
              "  background-color: var(--sklearn-color-fitted-level-2);\n",
              "}\n",
              "\n",
              "#sk-container-id-1 div.sk-label label.sk-toggleable__label,\n",
              "#sk-container-id-1 div.sk-label label {\n",
              "  /* The background is the default theme color */\n",
              "  color: var(--sklearn-color-text-on-default-background);\n",
              "}\n",
              "\n",
              "/* On hover, darken the color of the background */\n",
              "#sk-container-id-1 div.sk-label:hover label.sk-toggleable__label {\n",
              "  color: var(--sklearn-color-text);\n",
              "  background-color: var(--sklearn-color-unfitted-level-2);\n",
              "}\n",
              "\n",
              "/* Label box, darken color on hover, fitted */\n",
              "#sk-container-id-1 div.sk-label.fitted:hover label.sk-toggleable__label.fitted {\n",
              "  color: var(--sklearn-color-text);\n",
              "  background-color: var(--sklearn-color-fitted-level-2);\n",
              "}\n",
              "\n",
              "/* Estimator label */\n",
              "\n",
              "#sk-container-id-1 div.sk-label label {\n",
              "  font-family: monospace;\n",
              "  font-weight: bold;\n",
              "  display: inline-block;\n",
              "  line-height: 1.2em;\n",
              "}\n",
              "\n",
              "#sk-container-id-1 div.sk-label-container {\n",
              "  text-align: center;\n",
              "}\n",
              "\n",
              "/* Estimator-specific */\n",
              "#sk-container-id-1 div.sk-estimator {\n",
              "  font-family: monospace;\n",
              "  border: 1px dotted var(--sklearn-color-border-box);\n",
              "  border-radius: 0.25em;\n",
              "  box-sizing: border-box;\n",
              "  margin-bottom: 0.5em;\n",
              "  /* unfitted */\n",
              "  background-color: var(--sklearn-color-unfitted-level-0);\n",
              "}\n",
              "\n",
              "#sk-container-id-1 div.sk-estimator.fitted {\n",
              "  /* fitted */\n",
              "  background-color: var(--sklearn-color-fitted-level-0);\n",
              "}\n",
              "\n",
              "/* on hover */\n",
              "#sk-container-id-1 div.sk-estimator:hover {\n",
              "  /* unfitted */\n",
              "  background-color: var(--sklearn-color-unfitted-level-2);\n",
              "}\n",
              "\n",
              "#sk-container-id-1 div.sk-estimator.fitted:hover {\n",
              "  /* fitted */\n",
              "  background-color: var(--sklearn-color-fitted-level-2);\n",
              "}\n",
              "\n",
              "/* Specification for estimator info (e.g. \"i\" and \"?\") */\n",
              "\n",
              "/* Common style for \"i\" and \"?\" */\n",
              "\n",
              ".sk-estimator-doc-link,\n",
              "a:link.sk-estimator-doc-link,\n",
              "a:visited.sk-estimator-doc-link {\n",
              "  float: right;\n",
              "  font-size: smaller;\n",
              "  line-height: 1em;\n",
              "  font-family: monospace;\n",
              "  background-color: var(--sklearn-color-background);\n",
              "  border-radius: 1em;\n",
              "  height: 1em;\n",
              "  width: 1em;\n",
              "  text-decoration: none !important;\n",
              "  margin-left: 0.5em;\n",
              "  text-align: center;\n",
              "  /* unfitted */\n",
              "  border: var(--sklearn-color-unfitted-level-1) 1pt solid;\n",
              "  color: var(--sklearn-color-unfitted-level-1);\n",
              "}\n",
              "\n",
              ".sk-estimator-doc-link.fitted,\n",
              "a:link.sk-estimator-doc-link.fitted,\n",
              "a:visited.sk-estimator-doc-link.fitted {\n",
              "  /* fitted */\n",
              "  border: var(--sklearn-color-fitted-level-1) 1pt solid;\n",
              "  color: var(--sklearn-color-fitted-level-1);\n",
              "}\n",
              "\n",
              "/* On hover */\n",
              "div.sk-estimator:hover .sk-estimator-doc-link:hover,\n",
              ".sk-estimator-doc-link:hover,\n",
              "div.sk-label-container:hover .sk-estimator-doc-link:hover,\n",
              ".sk-estimator-doc-link:hover {\n",
              "  /* unfitted */\n",
              "  background-color: var(--sklearn-color-unfitted-level-3);\n",
              "  color: var(--sklearn-color-background);\n",
              "  text-decoration: none;\n",
              "}\n",
              "\n",
              "div.sk-estimator.fitted:hover .sk-estimator-doc-link.fitted:hover,\n",
              ".sk-estimator-doc-link.fitted:hover,\n",
              "div.sk-label-container:hover .sk-estimator-doc-link.fitted:hover,\n",
              ".sk-estimator-doc-link.fitted:hover {\n",
              "  /* fitted */\n",
              "  background-color: var(--sklearn-color-fitted-level-3);\n",
              "  color: var(--sklearn-color-background);\n",
              "  text-decoration: none;\n",
              "}\n",
              "\n",
              "/* Span, style for the box shown on hovering the info icon */\n",
              ".sk-estimator-doc-link span {\n",
              "  display: none;\n",
              "  z-index: 9999;\n",
              "  position: relative;\n",
              "  font-weight: normal;\n",
              "  right: .2ex;\n",
              "  padding: .5ex;\n",
              "  margin: .5ex;\n",
              "  width: min-content;\n",
              "  min-width: 20ex;\n",
              "  max-width: 50ex;\n",
              "  color: var(--sklearn-color-text);\n",
              "  box-shadow: 2pt 2pt 4pt #999;\n",
              "  /* unfitted */\n",
              "  background: var(--sklearn-color-unfitted-level-0);\n",
              "  border: .5pt solid var(--sklearn-color-unfitted-level-3);\n",
              "}\n",
              "\n",
              ".sk-estimator-doc-link.fitted span {\n",
              "  /* fitted */\n",
              "  background: var(--sklearn-color-fitted-level-0);\n",
              "  border: var(--sklearn-color-fitted-level-3);\n",
              "}\n",
              "\n",
              ".sk-estimator-doc-link:hover span {\n",
              "  display: block;\n",
              "}\n",
              "\n",
              "/* \"?\"-specific style due to the `<a>` HTML tag */\n",
              "\n",
              "#sk-container-id-1 a.estimator_doc_link {\n",
              "  float: right;\n",
              "  font-size: 1rem;\n",
              "  line-height: 1em;\n",
              "  font-family: monospace;\n",
              "  background-color: var(--sklearn-color-background);\n",
              "  border-radius: 1rem;\n",
              "  height: 1rem;\n",
              "  width: 1rem;\n",
              "  text-decoration: none;\n",
              "  /* unfitted */\n",
              "  color: var(--sklearn-color-unfitted-level-1);\n",
              "  border: var(--sklearn-color-unfitted-level-1) 1pt solid;\n",
              "}\n",
              "\n",
              "#sk-container-id-1 a.estimator_doc_link.fitted {\n",
              "  /* fitted */\n",
              "  border: var(--sklearn-color-fitted-level-1) 1pt solid;\n",
              "  color: var(--sklearn-color-fitted-level-1);\n",
              "}\n",
              "\n",
              "/* On hover */\n",
              "#sk-container-id-1 a.estimator_doc_link:hover {\n",
              "  /* unfitted */\n",
              "  background-color: var(--sklearn-color-unfitted-level-3);\n",
              "  color: var(--sklearn-color-background);\n",
              "  text-decoration: none;\n",
              "}\n",
              "\n",
              "#sk-container-id-1 a.estimator_doc_link.fitted:hover {\n",
              "  /* fitted */\n",
              "  background-color: var(--sklearn-color-fitted-level-3);\n",
              "}\n",
              "</style><div id=\"sk-container-id-1\" class=\"sk-top-container\"><div class=\"sk-text-repr-fallback\"><pre>LogisticRegression(penalty=None)</pre><b>In a Jupyter environment, please rerun this cell to show the HTML representation or trust the notebook. <br />On GitHub, the HTML representation is unable to render, please try loading this page with nbviewer.org.</b></div><div class=\"sk-container\" hidden><div class=\"sk-item\"><div class=\"sk-estimator fitted sk-toggleable\"><input class=\"sk-toggleable__control sk-hidden--visually\" id=\"sk-estimator-id-1\" type=\"checkbox\" checked><label for=\"sk-estimator-id-1\" class=\"sk-toggleable__label fitted sk-toggleable__label-arrow\"><div><div>LogisticRegression</div></div><div><a class=\"sk-estimator-doc-link fitted\" rel=\"noreferrer\" target=\"_blank\" href=\"https://scikit-learn.org/1.6/modules/generated/sklearn.linear_model.LogisticRegression.html\">?<span>Documentation for LogisticRegression</span></a><span class=\"sk-estimator-doc-link fitted\">i<span>Fitted</span></span></div></label><div class=\"sk-toggleable__content fitted\"><pre>LogisticRegression(penalty=None)</pre></div> </div></div></div></div>"
            ],
            "text/plain": [
              "LogisticRegression(penalty=None)"
            ]
          },
          "execution_count": 27,
          "metadata": {},
          "output_type": "execute_result"
        }
      ],
      "source": [
        "log_reg = LogisticRegression(penalty = None)\n",
        "\n",
        "\n",
        "log_reg.fit(X,y)"
      ]
    },
    {
      "cell_type": "markdown",
      "metadata": {
        "id": "63LYzyUdIn-6"
      },
      "source": [
        "Create a pandas dataframe to find the important features of this model\n",
        "\n",
        "Note: Negative values are a negative correlation, but still are important.\n",
        "\n",
        "For example, as population density increases, the likelyhood of fire spreading there decreases."
      ]
    },
    {
      "cell_type": "code",
      "execution_count": 28,
      "metadata": {
        "colab": {
          "base_uri": "https://localhost:8080/",
          "height": 426
        },
        "id": "sBDNGZqRXD09",
        "outputId": "7175f74a-b7d9-46a2-ca43-138181d38829"
      },
      "outputs": [
        {
          "data": {
            "text/html": [
              "<div>\n",
              "<style scoped>\n",
              "    .dataframe tbody tr th:only-of-type {\n",
              "        vertical-align: middle;\n",
              "    }\n",
              "\n",
              "    .dataframe tbody tr th {\n",
              "        vertical-align: top;\n",
              "    }\n",
              "\n",
              "    .dataframe thead th {\n",
              "        text-align: right;\n",
              "    }\n",
              "</style>\n",
              "<table border=\"1\" class=\"dataframe\">\n",
              "  <thead>\n",
              "    <tr style=\"text-align: right;\">\n",
              "      <th></th>\n",
              "      <th>feature</th>\n",
              "      <th>importance_score</th>\n",
              "      <th>actual_value</th>\n",
              "    </tr>\n",
              "  </thead>\n",
              "  <tbody>\n",
              "    <tr>\n",
              "      <th>11</th>\n",
              "      <td>Previous\\nfire\\nmask</td>\n",
              "      <td>3.054717</td>\n",
              "      <td>3.054717</td>\n",
              "    </tr>\n",
              "    <tr>\n",
              "      <th>3</th>\n",
              "      <td>Min\\ntemp</td>\n",
              "      <td>0.759569</td>\n",
              "      <td>0.759569</td>\n",
              "    </tr>\n",
              "    <tr>\n",
              "      <th>10</th>\n",
              "      <td>Energy\\nrelease\\ncomponent</td>\n",
              "      <td>0.334766</td>\n",
              "      <td>0.334766</td>\n",
              "    </tr>\n",
              "    <tr>\n",
              "      <th>9</th>\n",
              "      <td>Population\\ndensity</td>\n",
              "      <td>0.288098</td>\n",
              "      <td>-0.288098</td>\n",
              "    </tr>\n",
              "    <tr>\n",
              "      <th>0</th>\n",
              "      <td>Elevation</td>\n",
              "      <td>0.176412</td>\n",
              "      <td>0.176412</td>\n",
              "    </tr>\n",
              "    <tr>\n",
              "      <th>6</th>\n",
              "      <td>Precip</td>\n",
              "      <td>0.140262</td>\n",
              "      <td>-0.140262</td>\n",
              "    </tr>\n",
              "    <tr>\n",
              "      <th>7</th>\n",
              "      <td>Drought</td>\n",
              "      <td>0.133444</td>\n",
              "      <td>-0.133444</td>\n",
              "    </tr>\n",
              "    <tr>\n",
              "      <th>4</th>\n",
              "      <td>Max\\ntemp</td>\n",
              "      <td>0.127837</td>\n",
              "      <td>-0.127837</td>\n",
              "    </tr>\n",
              "    <tr>\n",
              "      <th>2</th>\n",
              "      <td>Wind\\nvelocity</td>\n",
              "      <td>0.073802</td>\n",
              "      <td>0.073802</td>\n",
              "    </tr>\n",
              "    <tr>\n",
              "      <th>1</th>\n",
              "      <td>Wind\\ndirection</td>\n",
              "      <td>0.057531</td>\n",
              "      <td>0.057531</td>\n",
              "    </tr>\n",
              "    <tr>\n",
              "      <th>5</th>\n",
              "      <td>Humidity</td>\n",
              "      <td>0.024114</td>\n",
              "      <td>-0.024114</td>\n",
              "    </tr>\n",
              "    <tr>\n",
              "      <th>8</th>\n",
              "      <td>Vegetation</td>\n",
              "      <td>0.003822</td>\n",
              "      <td>-0.003822</td>\n",
              "    </tr>\n",
              "  </tbody>\n",
              "</table>\n",
              "</div>"
            ],
            "text/plain": [
              "                       feature  importance_score  actual_value\n",
              "11        Previous\\nfire\\nmask          3.054717      3.054717\n",
              "3                    Min\\ntemp          0.759569      0.759569\n",
              "10  Energy\\nrelease\\ncomponent          0.334766      0.334766\n",
              "9          Population\\ndensity          0.288098     -0.288098\n",
              "0                    Elevation          0.176412      0.176412\n",
              "6                       Precip          0.140262     -0.140262\n",
              "7                      Drought          0.133444     -0.133444\n",
              "4                    Max\\ntemp          0.127837     -0.127837\n",
              "2               Wind\\nvelocity          0.073802      0.073802\n",
              "1              Wind\\ndirection          0.057531      0.057531\n",
              "5                     Humidity          0.024114     -0.024114\n",
              "8                   Vegetation          0.003822     -0.003822"
            ]
          },
          "execution_count": 28,
          "metadata": {},
          "output_type": "execute_result"
        }
      ],
      "source": [
        "score_df = pd.DataFrame({'feature':TITLES[:-1],\n",
        "                            'importance_score': np.abs(log_reg.coef_[-1]),\n",
        "                            'actual_value': log_reg.coef_[-1]})\n",
        "\n",
        "score_df.sort_values('importance_score',ascending=False)"
      ]
    },
    {
      "cell_type": "markdown",
      "metadata": {
        "id": "kzAiew6uLH79"
      },
      "source": [
        "# 5. Metrics: Precision, Recall, AUC (PR)\n",
        "\n",
        "This section of code takes the predictions and labels, and returns a bunch of metrics.\n",
        "\n",
        "In order to run it, you have to specifiy whether you want the metrics for the training data, validation data, or test data.\n",
        "\n",
        "To start, import the confusion matrix so we can get the actual fires and predicted fires"
      ]
    },
    {
      "cell_type": "markdown",
      "metadata": {
        "id": "TylUVBVOI_D4"
      },
      "source": [
        "Remove \"no fire\" data in the validation/test data (uncomment one or none for training)"
      ]
    },
    {
      "cell_type": "code",
      "execution_count": 30,
      "metadata": {
        "id": "Frr2F1ycB-3o"
      },
      "outputs": [],
      "source": [
        "#Leave these commented if you want the training accuracy\n",
        "#Uncomment one or the other if you want the val/test data\n",
        "# X, y = X_val, y_val\n",
        "# X, y = X_test, y_test\n",
        "\n",
        "\n",
        "#Don't bother learning where no-data is during training.\n",
        "#makes training quicker and binary (thank fuck)\n",
        "X = X[np.where(y >= 0)]\n",
        "y = y[np.where(y >= 0)]"
      ]
    },
    {
      "cell_type": "markdown",
      "metadata": {
        "id": "mliBPq3_JZ_x"
      },
      "source": [
        "The probability of there being fire\n",
        "\n"
      ]
    },
    {
      "cell_type": "code",
      "execution_count": 31,
      "metadata": {
        "id": "UKSVSumQUx4b"
      },
      "outputs": [],
      "source": [
        "#We just want the probability of being fire\n",
        "y_pred = log_reg.predict_proba(X)[:,-1]"
      ]
    },
    {
      "cell_type": "markdown",
      "metadata": {
        "id": "sXwyp3o_JeMc"
      },
      "source": [
        "Get the actual fire and predicted fire values\n",
        "\n"
      ]
    },
    {
      "cell_type": "code",
      "execution_count": 32,
      "metadata": {
        "colab": {
          "base_uri": "https://localhost:8080/"
        },
        "id": "s-_00VLPPjW7",
        "outputId": "03106c68-7f2a-41d1-ab03-afa062ecfff0"
      },
      "outputs": [
        {
          "data": {
            "text/plain": [
              "array([[14608600,    15520],\n",
              "       [  366924,    10055]])"
            ]
          },
          "execution_count": 32,
          "metadata": {},
          "output_type": "execute_result"
        }
      ],
      "source": [
        "## just like mse, actual then prediction\n",
        "cum = confusion_matrix(y, np.round(y_pred))\n",
        "cum"
      ]
    },
    {
      "cell_type": "markdown",
      "metadata": {
        "id": "XGfh3Ke2JrIL"
      },
      "source": [
        "Get the True Negative (TN), False Positive (FP), False Negative (FN), and True Positive (TP)"
      ]
    },
    {
      "cell_type": "code",
      "execution_count": 33,
      "metadata": {
        "id": "SVaeaEl1PjSV"
      },
      "outputs": [],
      "source": [
        "## Calculate the confusion matrix here\n",
        "\n",
        "TN = cum[0,0] \n",
        "FP = cum[0,1] \n",
        "FN = cum[1,0]\n",
        "TP = cum[1,1]"
      ]
    },
    {
      "cell_type": "markdown",
      "metadata": {
        "id": "xYMc8TbFJuvw"
      },
      "source": [
        "Get the baseline precision and recall\n",
        "\n",
        "\n",
        "The baseline precision is with a cutoff of 0.5 (>0.5 means fire and <0.5 means no fire).\n",
        "\n",
        "This isn't always ideal, as the model regularly predictions regions are on fire with, say 30% confidence."
      ]
    },
    {
      "cell_type": "code",
      "execution_count": null,
      "metadata": {
        "colab": {
          "base_uri": "https://localhost:8080/"
        },
        "id": "OrhTO9_WPjUo",
        "outputId": "45785498-b91f-470a-d1c3-9caa10414e56"
      },
      "outputs": [
        {
          "name": "stdout",
          "output_type": "stream",
          "text": [
            "The baseline precision is 0.3932\n",
            "The baseline recall is 0.0267\n"
          ]
        }
      ],
      "source": [
        "## calculate recall and precision here\n",
        "print(\"The baseline precision is\", \n",
        "         np.round(TP/(FP + TP), 4))\n",
        "\n",
        "print(\"The baseline recall is\", \n",
        "         np.round(TP/(FN + TP), 4))\n"
      ]
    },
    {
      "cell_type": "markdown",
      "metadata": {
        "id": "OnWrhM8vJyxi"
      },
      "source": [
        "So we sweep through all the cutoffs to see which combination of precision/recall is best."
      ]
    },
    {
      "cell_type": "code",
      "execution_count": 35,
      "metadata": {
        "colab": {
          "base_uri": "https://localhost:8080/"
        },
        "id": "76jrMz_DAc7h",
        "outputId": "0b4f65f1-cfca-4d27-f35f-adfbc4cd49ee"
      },
      "outputs": [
        {
          "name": "stderr",
          "output_type": "stream",
          "text": [
            "/var/folders/3j/7bvky4w57ps4z49wkh2l_kx40000gn/T/ipykernel_11577/3053162352.py:10: RuntimeWarning: invalid value encountered in scalar divide\n",
            "  precs.append(TP/PP)\n"
          ]
        }
      ],
      "source": [
        "cutoffs = np.arange(0.001,.975,.001)\n",
        "precs = []\n",
        "recs = []\n",
        "y = y.astype(int)\n",
        "\n",
        "for cutoff in cutoffs:\n",
        "    TP = (1*(y_pred >= cutoff) & y).sum()\n",
        "    PP = 1*(y_pred >= cutoff).sum() #predicted positives = # Denominator for precision\n",
        "    AP = y.sum() #Actual positives # Denominator for recall\n",
        "    precs.append(TP/PP)\n",
        "    recs.append(TP/AP)"
      ]
    },
    {
      "cell_type": "code",
      "execution_count": null,
      "metadata": {
        "colab": {
          "base_uri": "https://localhost:8080/"
        },
        "id": "BarqNMQL_QUR",
        "outputId": "ead6201a-cff5-417d-b6b1-d780f1277ee9"
      },
      "outputs": [
        {
          "name": "stderr",
          "output_type": "stream",
          "text": [
            "/var/folders/3j/7bvky4w57ps4z49wkh2l_kx40000gn/T/ipykernel_11577/522883801.py:2: RuntimeWarning: invalid value encountered in divide\n",
            "  f1s = np.nan_to_num(2*np.nan_to_num(precs)*recs/(np.nan_to_num(precs) + recs))\n"
          ]
        },
        {
          "name": "stdout",
          "output_type": "stream",
          "text": [
            "The best precision is 0.38952778644711944\n",
            "The best recall is 0.26155303080542947\n",
            "The auc is 0.16181013\n"
          ]
        }
      ],
      "source": [
        "prec, rec = get_metrics(precs, recs)\n",
        "\n",
        "auc = tf.keras.metrics.AUC(curve = 'PR')\n",
        "auc.update_state(y, y_pred)\n",
        "\n",
        "print(\"The best precision is\", prec)\n",
        "print(\"The best recall is\", rec)\n",
        "print(\"The auc is\", auc.result().numpy())"
      ]
    },
    {
      "cell_type": "markdown",
      "metadata": {
        "id": "iZA_c8GC_ngg"
      },
      "source": [
        "# 6. Plot of Precision/Recall curves\n",
        "\n",
        "Nothing fancy. Just seeing how they each change as the cutoff changes."
      ]
    },
    {
      "cell_type": "code",
      "execution_count": 37,
      "metadata": {
        "colab": {
          "base_uri": "https://localhost:8080/",
          "height": 502
        },
        "id": "XIl-u9qmS78d",
        "outputId": "9820dc5d-b4d3-4b17-fae7-ab359de56ee6"
      },
      "outputs": [
        {
          "data": {
            "image/png": "[encoded data removed]",
            "text/plain": [
              "<Figure size 1200x800 with 1 Axes>"
            ]
          },
          "metadata": {},
          "output_type": "display_data"
        }
      ],
      "source": [
        "plt.figure(figsize=(12,8))\n",
        "\n",
        "plt.scatter(cutoffs,precs)\n",
        "\n",
        "plt.xlabel(\"Cutoff\",fontsize=16)\n",
        "plt.ylabel(\"Training Precision\",fontsize=16)\n",
        "\n",
        "plt.show()"
      ]
    },
    {
      "cell_type": "code",
      "execution_count": 38,
      "metadata": {
        "colab": {
          "base_uri": "https://localhost:8080/",
          "height": 502
        },
        "id": "rwc2sIJTS7-3",
        "outputId": "d3abb68c-4fad-499a-8427-35f48b9e46c5"
      },
      "outputs": [
        {
          "data": {
            "image/png": "[encoded data removed]",
            "text/plain": [
              "<Figure size 1200x800 with 1 Axes>"
            ]
          },
          "metadata": {},
          "output_type": "display_data"
        }
      ],
      "source": [
        "plt.figure(figsize=(12,8))\n",
        "\n",
        "plt.scatter(cutoffs,recs)\n",
        "\n",
        "plt.xlabel(\"Cutoff\",fontsize=16)\n",
        "plt.ylabel(\"Training Recall\",fontsize=16)\n",
        "\n",
        "plt.show()"
      ]
    },
    {
      "cell_type": "code",
      "execution_count": 39,
      "metadata": {
        "colab": {
          "base_uri": "https://localhost:8080/",
          "height": 506
        },
        "id": "ATyN2L0YMLaZ",
        "outputId": "87058fee-a642-4aea-b183-cd74794672be"
      },
      "outputs": [
        {
          "data": {
            "image/png": "[encoded data removed]",
            "text/plain": [
              "<Figure size 1000x800 with 1 Axes>"
            ]
          },
          "metadata": {},
          "output_type": "display_data"
        }
      ],
      "source": [
        "plt.figure(figsize=(10,8))\n",
        "\n",
        "plt.plot(recs, precs)\n",
        "\n",
        "plt.xlabel(\"Recall\", fontsize=16)\n",
        "plt.ylabel(\"Precision\", fontsize=16)\n",
        "\n",
        "plt.xticks(fontsize=14)\n",
        "plt.yticks(fontsize=14)\n",
        "\n",
        "plt.show()"
      ]
    },
    {
      "cell_type": "markdown",
      "metadata": {
        "id": "hIEE7XmKJ5iD"
      },
      "source": [
        "Remember, we report precision and recall that maximize the F1-score, which usually involves a relatively low threshold for fire."
      ]
    },
    {
      "cell_type": "code",
      "execution_count": 40,
      "metadata": {
        "colab": {
          "base_uri": "https://localhost:8080/",
          "height": 537
        },
        "id": "2ULrRMSOM1UQ",
        "outputId": "f7ca4f2d-579c-4f2e-f18e-2eb8c69b3905"
      },
      "outputs": [
        {
          "name": "stderr",
          "output_type": "stream",
          "text": [
            "/var/folders/3j/7bvky4w57ps4z49wkh2l_kx40000gn/T/ipykernel_11577/2028939782.py:3: RuntimeWarning: invalid value encountered in divide\n",
            "  f1s = np.nan_to_num(2*np.nan_to_num(precs)*recs/(np.nan_to_num(precs) + recs))\n"
          ]
        },
        {
          "data": {
            "image/png": "[encoded data removed]",
            "text/plain": [
              "<Figure size 1200x800 with 1 Axes>"
            ]
          },
          "metadata": {},
          "output_type": "display_data"
        }
      ],
      "source": [
        "plt.figure(figsize=(12,8))\n",
        "\n",
        "f1s = np.nan_to_num(2*np.nan_to_num(precs)*recs/(np.nan_to_num(precs) + recs))\n",
        "plt.scatter(cutoffs,f1s)\n",
        "\n",
        "plt.xlabel(\"Cutoff\",fontsize=16)\n",
        "plt.ylabel(\"F1-Score\",fontsize=16)\n",
        "\n",
        "plt.show()"
      ]
    },
    {
      "cell_type": "markdown",
      "metadata": {
        "id": "bzCgCoxtgP-f"
      },
      "source": [
        "# 7. Plotting function\n",
        "\n",
        "Visualize the predicions on a few new inputs"
      ]
    },
    {
      "cell_type": "code",
      "execution_count": 41,
      "metadata": {
        "id": "G0E6lWR9beD0"
      },
      "outputs": [],
      "source": [
        "n_rows = 10\n",
        "n_features = inputs.shape[3]\n",
        "CMAP = colors.ListedColormap(['black', 'silver', 'orangered'])\n",
        "BOUNDS = [-1, -0.1, 0.001, 1]\n",
        "NORM = colors.BoundaryNorm(BOUNDS, CMAP.N)\n",
        "keys = INPUT_FEATURES"
      ]
    },
    {
      "cell_type": "code",
      "execution_count": 42,
      "metadata": {
        "colab": {
          "base_uri": "https://localhost:8080/",
          "height": 283
        },
        "id": "TfTUT4UWMLVS",
        "outputId": "d5067404-1b93-473e-9355-b189c46e033d"
      },
      "outputs": [
        {
          "data": {
            "text/plain": [
              "<matplotlib.image.AxesImage at 0x16e0978d0>"
            ]
          },
          "execution_count": 42,
          "metadata": {},
          "output_type": "execute_result"
        },
        {
          "data": {
            "image/png": "[encoded data removed]",
            "text/plain": [
              "<Figure size 640x480 with 1 Axes>"
            ]
          },
          "metadata": {},
          "output_type": "display_data"
        }
      ],
      "source": [
        "y_pred = log_reg.predict_proba(X_test)[:,-1]\n",
        "pred = np.reshape(y_pred, (len(inputs_test),32,32))\n",
        "plt.imshow(pred[0], cmap='plasma') "
      ]
    },
    {
      "cell_type": "markdown",
      "metadata": {
        "id": "upFCHNExJ_C6"
      },
      "source": [
        "Plot the Last fire, Actual fire, and Predicted fire for comparison to see how well this model did in predicting fire.\n",
        "\n",
        "Note that for inputs with no fire (presumably, it was cropped out), it generally predicts there will be no fire (<2% chance).\n",
        "\n",
        "For all other inputs, it generally predicts the fire will stay exactly where it is."
      ]
    },
    {
      "cell_type": "code",
      "execution_count": 43,
      "metadata": {
        "colab": {
          "base_uri": "https://localhost:8080/",
          "height": 1000
        },
        "id": "63MC_lvOMLYM",
        "outputId": "93bac44f-37ed-4884-fc1c-c6006642727e"
      },
      "outputs": [
        {
          "data": {
            "image/png": "[encoded data removed]",
            "text/plain": [
              "<Figure size 900x2000 with 32 Axes>"
            ]
          },
          "metadata": {},
          "output_type": "display_data"
        }
      ],
      "source": [
        "fig = plt.figure(figsize=(9,20))\n",
        "n_rows = 8\n",
        "\n",
        "for i in range(n_rows):\n",
        "  fire_index = i +1000\n",
        "  plt.subplot(n_rows,3, 3*i + 1)\n",
        "  plt.title(\"Last fire\", fontsize=13)\n",
        "  plt.imshow(inputs_test[fire_index, :, :, -1], cmap=CMAP, norm=NORM)\n",
        "  plt.axis('off')\n",
        "  plt.subplot(n_rows,3, 3*i + 2)\n",
        "  plt.title(\"Actual fire\", fontsize=13)\n",
        "  plt.imshow(labels_test[fire_index, :, :, 0], cmap=CMAP, norm=NORM)\n",
        "  plt.axis('off')\n",
        "  plt.subplot(n_rows,3, 3*i + 3)\n",
        "  plt.title(\"Prediction\", fontsize=13)\n",
        "  plt.imshow(pred[fire_index], cmap='plasma') \n",
        "  plt.colorbar()\n",
        "  plt.axis('off')\n",
        "plt.tight_layout()"
      ]
    }
  ],
  "metadata": {
    "colab": {
      "collapsed_sections": [
        "rdNDytnsPTVK",
        "J1qgH3TWKPBO",
        "iZA_c8GC_ngg",
        "bzCgCoxtgP-f"
      ],
      "include_colab_link": true,
      "provenance": []
    },
    "gpuClass": "standard",
    "kernelspec": {
      "display_name": ".venv",
      "language": "python",
      "name": "python3"
    },
    "language_info": {
      "codemirror_mode": {
        "name": "ipython",
        "version": 3
      },
      "file_extension": ".py",
      "mimetype": "text/x-python",
      "name": "python",
      "nbconvert_exporter": "python",
      "pygments_lexer": "ipython3",
      "version": "3.11.10"
    }
  },
  "nbformat": 4,
  "nbformat_minor": 0
}
