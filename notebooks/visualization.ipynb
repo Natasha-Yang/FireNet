{
 "cells": [
  {
   "cell_type": "code",
   "execution_count": 1,
   "metadata": {},
   "outputs": [
    {
     "name": "stderr",
     "output_type": "stream",
     "text": [
      "\u001b[32m2025-02-22 18:09:15.647\u001b[0m | \u001b[1mINFO    \u001b[0m | \u001b[36mfirenet.config\u001b[0m:\u001b[36m<module>\u001b[0m:\u001b[36m11\u001b[0m - \u001b[1mPROJ_ROOT path is: /Users/natashayang/FireNet\u001b[0m\n"
     ]
    },
    {
     "name": "stdout",
     "output_type": "stream",
     "text": [
      "DEBUG: NDWS_RAW_DATA_DIR = /Users/natashayang/FireNet/data/NextDayWildfireSpread/raw\n"
     ]
    }
   ],
   "source": [
    "from tfrecord.torch.dataset import TFRecordDataset\n",
    "from torch.utils.data import DataLoader\n",
    "import numpy as np\n",
    "from firenet.config import *\n",
    "import os"
   ]
  },
  {
   "cell_type": "code",
   "execution_count": 3,
   "metadata": {},
   "outputs": [],
   "source": [
    "def visualize_one_file(filename, features):\n",
    "    \n",
    "    dataset = TFRecordDataset(filename, index_path=None, description = features)\n",
    "    first_datapoint = next(iter(dataset))\n",
    "\n",
    "    for i in features.keys():\n",
    "        feature = np.array(first_datapoint[i])\n",
    "        feature = feature.reshape(64, 64, 1)\n",
    "        print(f\"{i} Shape:\", feature.shape)\n",
    "        print(np.max(feature), np.min(feature))\n"
   ]
  },
  {
   "cell_type": "code",
   "execution_count": 4,
   "metadata": {},
   "outputs": [],
   "source": [
    "INPUT_FEATURES = ['elevation', 'th', 'vs',  'tmmn', 'tmmx', 'sph', \n",
    "                  'pr', 'pdsi', 'NDVI', 'population', 'erc', 'PrevFireMask']\n",
    "\n",
    "OUTPUT_FEATURES = ['FireMask']\n",
    "\n",
    "description = {feature_name: \"float\" for feature_name in INPUT_FEATURES + OUTPUT_FEATURES}"
   ]
  },
  {
   "cell_type": "code",
   "execution_count": 6,
   "metadata": {},
   "outputs": [
    {
     "name": "stdout",
     "output_type": "stream",
     "text": [
      "elevation Shape: (64, 64, 1)\n",
      "155.0 74.0\n",
      "th Shape: (64, 64, 1)\n",
      "168.41086 140.8193\n",
      "vs Shape: (64, 64, 1)\n",
      "4.2516036 3.7304075\n",
      "tmmn Shape: (64, 64, 1)\n",
      "280.70538 277.52966\n",
      "tmmx Shape: (64, 64, 1)\n",
      "295.06644 291.793\n",
      "sph Shape: (64, 64, 1)\n",
      "0.009082448 0.007908809\n",
      "pr Shape: (64, 64, 1)\n",
      "7.125251 2.4023614\n",
      "pdsi Shape: (64, 64, 1)\n",
      "3.8771145 2.1421752\n",
      "NDVI Shape: (64, 64, 1)\n",
      "7902.0 -4315.0\n",
      "population Shape: (64, 64, 1)\n",
      "2167.7148 0.0\n",
      "erc Shape: (64, 64, 1)\n",
      "22.505724 13.509377\n",
      "PrevFireMask Shape: (64, 64, 1)\n",
      "1.0 -1.0\n",
      "FireMask Shape: (64, 64, 1)\n",
      "0.0 -1.0\n"
     ]
    }
   ],
   "source": [
    "file_path = os.path.join(NDWS_RAW_DATA_DIR, 'next_day_wildfire_spread_eval_00.tfrecord')\n",
    "visualize_one_file(file_path, description)"
   ]
  }
 ],
 "metadata": {
  "kernelspec": {
   "display_name": "train",
   "language": "python",
   "name": "python3"
  },
  "language_info": {
   "codemirror_mode": {
    "name": "ipython",
    "version": 3
   },
   "file_extension": ".py",
   "mimetype": "text/x-python",
   "name": "python",
   "nbconvert_exporter": "python",
   "pygments_lexer": "ipython3",
   "version": "3.12.3"
  },
  "orig_nbformat": 4
 },
 "nbformat": 4,
 "nbformat_minor": 2
}
